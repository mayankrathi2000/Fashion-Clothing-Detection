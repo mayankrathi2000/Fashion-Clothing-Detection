{
  "nbformat": 4,
  "nbformat_minor": 0,
  "metadata": {
    "colab": {
      "name": "Copy of 02_Neural Network_Classification.ipynb",
      "provenance": [],
      "collapsed_sections": []
    },
    "kernelspec": {
      "name": "python3",
      "display_name": "Python 3"
    },
    "language_info": {
      "name": "python"
    }
  },
  "cells": [
    {
      "cell_type": "code",
      "metadata": {
        "id": "qdsrpmiMNa4L"
      },
      "source": [
        "import pandas as pd\n",
        "import tensorflow as tf\n",
        "import matplotlib.pyplot as plt"
      ],
      "execution_count": null,
      "outputs": []
    },
    {
      "cell_type": "markdown",
      "metadata": {
        "id": "YWjv1p4_H1MY"
      },
      "source": [
        "## Multiclass classification with `fashion_mnist`\n",
        "Labels\n",
        "Each training and test example is assigned to one of the following labels:\n",
        "\n",
        "**Label\tDescription:**\n",
        "0.\tT-shirt/top\n",
        "1.\tTrouser\n",
        "2.\tPullover\n",
        "3.  Dress\n",
        "4.\tCoat\n",
        "5.\tSandal\n",
        "6.\tShirt\n",
        "7.\tSneaker\n",
        "8.\tBag\n",
        "9.\tAnkle boot"
      ]
    },
    {
      "cell_type": "code",
      "metadata": {
        "id": "1suz9ORemptC",
        "colab": {
          "base_uri": "https://localhost:8080/"
        },
        "outputId": "9667c7e7-05ed-4909-9f8b-9430745c4c26"
      },
      "source": [
        "import tensorflow as tf\n",
        "from tensorflow.keras.datasets import fashion_mnist\n",
        "\n",
        "# Data has already been imported for us\n",
        "(train_data,train_labels),(test_data,test_labels)=fashion_mnist.load_data()\n",
        "\n"
      ],
      "execution_count": null,
      "outputs": [
        {
          "output_type": "stream",
          "text": [
            "Downloading data from https://storage.googleapis.com/tensorflow/tf-keras-datasets/train-labels-idx1-ubyte.gz\n",
            "32768/29515 [=================================] - 0s 0us/step\n",
            "Downloading data from https://storage.googleapis.com/tensorflow/tf-keras-datasets/train-images-idx3-ubyte.gz\n",
            "26427392/26421880 [==============================] - 0s 0us/step\n",
            "Downloading data from https://storage.googleapis.com/tensorflow/tf-keras-datasets/t10k-labels-idx1-ubyte.gz\n",
            "8192/5148 [===============================================] - 0s 0us/step\n",
            "Downloading data from https://storage.googleapis.com/tensorflow/tf-keras-datasets/t10k-images-idx3-ubyte.gz\n",
            "4423680/4422102 [==============================] - 0s 0us/step\n"
          ],
          "name": "stdout"
        }
      ]
    },
    {
      "cell_type": "code",
      "metadata": {
        "id": "a_PnFGuhoE7z",
        "colab": {
          "base_uri": "https://localhost:8080/"
        },
        "outputId": "3733e875-419e-4396-9fa3-296d2bec75c1"
      },
      "source": [
        "print(f\"Training sample:\\n{train_data[0]}\\n\")\n",
        "print(f\"Training label:\\n{train_labels[0]}\\n\")\n",
        "\n",
        "## Here it's training label is 9 hence it is ankle boot\n"
      ],
      "execution_count": null,
      "outputs": [
        {
          "output_type": "stream",
          "text": [
            "Training sample:\n",
            "[[  0   0   0   0   0   0   0   0   0   0   0   0   0   0   0   0   0   0\n",
            "    0   0   0   0   0   0   0   0   0   0]\n",
            " [  0   0   0   0   0   0   0   0   0   0   0   0   0   0   0   0   0   0\n",
            "    0   0   0   0   0   0   0   0   0   0]\n",
            " [  0   0   0   0   0   0   0   0   0   0   0   0   0   0   0   0   0   0\n",
            "    0   0   0   0   0   0   0   0   0   0]\n",
            " [  0   0   0   0   0   0   0   0   0   0   0   0   1   0   0  13  73   0\n",
            "    0   1   4   0   0   0   0   1   1   0]\n",
            " [  0   0   0   0   0   0   0   0   0   0   0   0   3   0  36 136 127  62\n",
            "   54   0   0   0   1   3   4   0   0   3]\n",
            " [  0   0   0   0   0   0   0   0   0   0   0   0   6   0 102 204 176 134\n",
            "  144 123  23   0   0   0   0  12  10   0]\n",
            " [  0   0   0   0   0   0   0   0   0   0   0   0   0   0 155 236 207 178\n",
            "  107 156 161 109  64  23  77 130  72  15]\n",
            " [  0   0   0   0   0   0   0   0   0   0   0   1   0  69 207 223 218 216\n",
            "  216 163 127 121 122 146 141  88 172  66]\n",
            " [  0   0   0   0   0   0   0   0   0   1   1   1   0 200 232 232 233 229\n",
            "  223 223 215 213 164 127 123 196 229   0]\n",
            " [  0   0   0   0   0   0   0   0   0   0   0   0   0 183 225 216 223 228\n",
            "  235 227 224 222 224 221 223 245 173   0]\n",
            " [  0   0   0   0   0   0   0   0   0   0   0   0   0 193 228 218 213 198\n",
            "  180 212 210 211 213 223 220 243 202   0]\n",
            " [  0   0   0   0   0   0   0   0   0   1   3   0  12 219 220 212 218 192\n",
            "  169 227 208 218 224 212 226 197 209  52]\n",
            " [  0   0   0   0   0   0   0   0   0   0   6   0  99 244 222 220 218 203\n",
            "  198 221 215 213 222 220 245 119 167  56]\n",
            " [  0   0   0   0   0   0   0   0   0   4   0   0  55 236 228 230 228 240\n",
            "  232 213 218 223 234 217 217 209  92   0]\n",
            " [  0   0   1   4   6   7   2   0   0   0   0   0 237 226 217 223 222 219\n",
            "  222 221 216 223 229 215 218 255  77   0]\n",
            " [  0   3   0   0   0   0   0   0   0  62 145 204 228 207 213 221 218 208\n",
            "  211 218 224 223 219 215 224 244 159   0]\n",
            " [  0   0   0   0  18  44  82 107 189 228 220 222 217 226 200 205 211 230\n",
            "  224 234 176 188 250 248 233 238 215   0]\n",
            " [  0  57 187 208 224 221 224 208 204 214 208 209 200 159 245 193 206 223\n",
            "  255 255 221 234 221 211 220 232 246   0]\n",
            " [  3 202 228 224 221 211 211 214 205 205 205 220 240  80 150 255 229 221\n",
            "  188 154 191 210 204 209 222 228 225   0]\n",
            " [ 98 233 198 210 222 229 229 234 249 220 194 215 217 241  65  73 106 117\n",
            "  168 219 221 215 217 223 223 224 229  29]\n",
            " [ 75 204 212 204 193 205 211 225 216 185 197 206 198 213 240 195 227 245\n",
            "  239 223 218 212 209 222 220 221 230  67]\n",
            " [ 48 203 183 194 213 197 185 190 194 192 202 214 219 221 220 236 225 216\n",
            "  199 206 186 181 177 172 181 205 206 115]\n",
            " [  0 122 219 193 179 171 183 196 204 210 213 207 211 210 200 196 194 191\n",
            "  195 191 198 192 176 156 167 177 210  92]\n",
            " [  0   0  74 189 212 191 175 172 175 181 185 188 189 188 193 198 204 209\n",
            "  210 210 211 188 188 194 192 216 170   0]\n",
            " [  2   0   0   0  66 200 222 237 239 242 246 243 244 221 220 193 191 179\n",
            "  182 182 181 176 166 168  99  58   0   0]\n",
            " [  0   0   0   0   0   0   0  40  61  44  72  41  35   0   0   0   0   0\n",
            "    0   0   0   0   0   0   0   0   0   0]\n",
            " [  0   0   0   0   0   0   0   0   0   0   0   0   0   0   0   0   0   0\n",
            "    0   0   0   0   0   0   0   0   0   0]\n",
            " [  0   0   0   0   0   0   0   0   0   0   0   0   0   0   0   0   0   0\n",
            "    0   0   0   0   0   0   0   0   0   0]]\n",
            "\n",
            "Training label:\n",
            "9\n",
            "\n"
          ],
          "name": "stdout"
        }
      ]
    },
    {
      "cell_type": "code",
      "metadata": {
        "colab": {
          "base_uri": "https://localhost:8080/"
        },
        "id": "pBovM72_o0PO",
        "outputId": "86682efa-4245-4b25-e5e6-b20789035dbc"
      },
      "source": [
        "## Check the shape of single data\n",
        "train_data[0].shape,train_labels[0].shape,train_data.shape"
      ],
      "execution_count": null,
      "outputs": [
        {
          "output_type": "execute_result",
          "data": {
            "text/plain": [
              "((28, 28), (), (60000, 28, 28))"
            ]
          },
          "metadata": {
            "tags": []
          },
          "execution_count": 4
        }
      ]
    },
    {
      "cell_type": "code",
      "metadata": {
        "colab": {
          "base_uri": "https://localhost:8080/",
          "height": 283
        },
        "id": "vIlAhMZdppvV",
        "outputId": "5256818e-420b-43d5-ee06-aed4594e7866"
      },
      "source": [
        "## Ploting a single plot\n",
        "import matplotlib.pyplot as plt\n",
        "plt.imshow(train_data[0])"
      ],
      "execution_count": null,
      "outputs": [
        {
          "output_type": "execute_result",
          "data": {
            "text/plain": [
              "<matplotlib.image.AxesImage at 0x7fd3810c02d0>"
            ]
          },
          "metadata": {
            "tags": []
          },
          "execution_count": 5
        },
        {
          "output_type": "display_data",
          "data": {
            "image/png": "[encoded data removed]",
            "text/plain": [
              "<Figure size 432x288 with 1 Axes>"
            ]
          },
          "metadata": {
            "tags": [],
            "needs_background": "light"
          }
        }
      ]
    },
    {
      "cell_type": "code",
      "metadata": {
        "colab": {
          "base_uri": "https://localhost:8080/"
        },
        "id": "mJusJFEtp4I1",
        "outputId": "89cb4f10-0edd-4bde-9c95-7088161c6033"
      },
      "source": [
        "# Checking the label for upper image\n",
        "train_labels[0]"
      ],
      "execution_count": null,
      "outputs": [
        {
          "output_type": "execute_result",
          "data": {
            "text/plain": [
              "9"
            ]
          },
          "metadata": {
            "tags": []
          },
          "execution_count": 6
        }
      ]
    },
    {
      "cell_type": "code",
      "metadata": {
        "colab": {
          "base_uri": "https://localhost:8080/"
        },
        "id": "FuW5ZpmDq5rs",
        "outputId": "69179112-0984-47e7-d71c-6ed5c6876c3d"
      },
      "source": [
        "# Creating list so that we can realted labels as human readable form\n",
        "class_names=[\"T-shirt/top\",\"Trouser\",\"Pullover\",\"Dress\",\"Coat\",\"Sandal\",\"Shirt\",\"Sneaker\",\"Bag\",\"Ankle boot\"]\n",
        "len(class_names)"
      ],
      "execution_count": null,
      "outputs": [
        {
          "output_type": "execute_result",
          "data": {
            "text/plain": [
              "10"
            ]
          },
          "metadata": {
            "tags": []
          },
          "execution_count": 7
        }
      ]
    },
    {
      "cell_type": "code",
      "metadata": {
        "colab": {
          "base_uri": "https://localhost:8080/",
          "height": 299
        },
        "id": "MpfQmGAOrY2W",
        "outputId": "f24c2417-c3ad-42f6-bd2d-1824ae59f1fd"
      },
      "source": [
        "# Plot an example of image and its label\n",
        "plt.imshow(train_data[13],cmap=plt.cm.binary)\n",
        "index=train_labels[13]\n",
        "plt.title(class_names[index])"
      ],
      "execution_count": null,
      "outputs": [
        {
          "output_type": "execute_result",
          "data": {
            "text/plain": [
              "Text(0.5, 1.0, 'Sandal')"
            ]
          },
          "metadata": {
            "tags": []
          },
          "execution_count": 8
        },
        {
          "output_type": "display_data",
          "data": {
            "image/png": "[encoded data removed]",
            "text/plain": [
              "<Figure size 432x288 with 1 Axes>"
            ]
          },
          "metadata": {
            "tags": [],
            "needs_background": "light"
          }
        }
      ]
    },
    {
      "cell_type": "code",
      "metadata": {
        "colab": {
          "base_uri": "https://localhost:8080/",
          "height": 132
        },
        "id": "O-4zwt35r69p",
        "outputId": "b2cc7d41-d015-49d0-e07d-7a1d2b5e009b"
      },
      "source": [
        "# Plotting random images\n",
        "import random\n",
        "plt.figure(figsize=(7,7))\n",
        "for i in range(4):\n",
        "  ax=plt.subplot(1,4,i+1)\n",
        "  rand_int=random.choice(range(len(train_data)))\n",
        "  plt.imshow(train_data[rand_int],cmap=plt.cm.binary)\n",
        "  plt.title(class_names[train_labels[rand_int]])\n",
        "  plt.axis(False)\n"
      ],
      "execution_count": null,
      "outputs": [
        {
          "output_type": "display_data",
          "data": {
            "image/png": "[encoded data removed]",
            "text/plain": [
              "<Figure size 504x504 with 4 Axes>"
            ]
          },
          "metadata": {
            "tags": [],
            "needs_background": "light"
          }
        }
      ]
    },
    {
      "cell_type": "markdown",
      "metadata": {
        "id": "tBzst4Wiss2_"
      },
      "source": [
        "## Building a multiclass classification\n",
        "\n",
        "For our multi-class classification model,we can use similar model as used previously\n",
        "\n",
        "* input shape (28*28)\n",
        "* output shape (10)\n",
        "* loss fn (tf.keras.losses.CategoricalCrossentropy())\n",
        "* output layer activation (softmax) not sigmoid\n",
        "\n"
      ]
    },
    {
      "cell_type": "code",
      "metadata": {
        "id": "9BvSdHHSw5Yv"
      },
      "source": [
        "# Here flattern changes the shape of each image from (28,28) to (None,764)\n",
        "# Here the loss fn. we should use should be SparseCategoricalCrossentropy\n",
        "# instead of this one.. If we need to use this one we should have our data to be one hot encoded\n",
        "\n",
        "tf.random.set_seed(54)\n",
        "model_9=tf.keras.Sequential([tf.keras.layers.Flatten(input_shape=(28,28)),\n",
        "                             tf.keras.layers.Dense(4,activation=\"relu\"),\n",
        "                             tf.keras.layers.Dense(4,activation=\"relu\"),\n",
        "                             tf.keras.layers.Dense(10,activation=\"softmax\")])\n",
        "model_9.compile(loss=\"SparseCategoricalCrossentropy\",\n",
        "                optimizer=tf.keras.optimizers.Adam(),\n",
        "                metrics=[\"accuracy\"])\n",
        "non_norm_history=model_9.fit(train_data,train_labels,epochs=10,validation_data=(test_data,test_labels))"
      ],
      "execution_count": null,
      "outputs": []
    },
    {
      "cell_type": "code",
      "metadata": {
        "id": "1ZTUyeTEzSxu"
      },
      "source": [
        "# Here flattern changes the shape of each image from (28,28) to (None,764)\n",
        "# Here the loss fn. we should use should be SparseCategoricalCrossentropy\n",
        "# instead of this one.. If we need to use this one we should have our data to be one hot encoded\n",
        "\n",
        "tf.random.set_seed(54)\n",
        "model_10=tf.keras.Sequential([tf.keras.layers.Flatten(input_shape=(28,28)),\n",
        "                             tf.keras.layers.Dense(4,activation=\"relu\"),\n",
        "                             tf.keras.layers.Dense(4,activation=\"relu\"),\n",
        "                             tf.keras.layers.Dense(10,activation=\"softmax\")])\n",
        "model_10.compile(loss=\"CategoricalCrossentropy\",\n",
        "                optimizer=tf.keras.optimizers.Adam(),\n",
        "                metrics=[\"accuracy\"])\n",
        "non_norm_history=model_10.fit(train_data,tf.one_hot(train_labels,depth=10),epochs=10,validation_data=(test_data,tf.one_hot(test_labels,depth=10)))\n",
        "\n",
        "# Here depth means that if our data is let's say [1,2,3] and depth =3 output =(size of input*depth)"
      ],
      "execution_count": null,
      "outputs": []
    },
    {
      "cell_type": "code",
      "metadata": {
        "id": "Pp20Nbr31uel",
        "colab": {
          "base_uri": "https://localhost:8080/"
        },
        "outputId": "a3273019-2666-4960-a989-156f8376b8eb"
      },
      "source": [
        "# Checking the model's summary\n",
        "model_10.summary()"
      ],
      "execution_count": null,
      "outputs": [
        {
          "output_type": "stream",
          "text": [
            "Model: \"sequential_1\"\n",
            "_________________________________________________________________\n",
            "Layer (type)                 Output Shape              Param #   \n",
            "=================================================================\n",
            "flatten_1 (Flatten)          (None, 784)               0         \n",
            "_________________________________________________________________\n",
            "dense_3 (Dense)              (None, 4)                 3140      \n",
            "_________________________________________________________________\n",
            "dense_4 (Dense)              (None, 4)                 20        \n",
            "_________________________________________________________________\n",
            "dense_5 (Dense)              (None, 10)                50        \n",
            "=================================================================\n",
            "Total params: 3,210\n",
            "Trainable params: 3,210\n",
            "Non-trainable params: 0\n",
            "_________________________________________________________________\n"
          ],
          "name": "stdout"
        }
      ]
    },
    {
      "cell_type": "code",
      "metadata": {
        "colab": {
          "base_uri": "https://localhost:8080/"
        },
        "id": "m2-ntm7L1J6I",
        "outputId": "1e2f926b-29cb-4d2a-c721-6777debdf73b"
      },
      "source": [
        "# Checking min amd max data of training data\n",
        "train_data.min(),train_data.max()"
      ],
      "execution_count": null,
      "outputs": [
        {
          "output_type": "execute_result",
          "data": {
            "text/plain": [
              "(0, 255)"
            ]
          },
          "metadata": {
            "tags": []
          },
          "execution_count": 13
        }
      ]
    },
    {
      "cell_type": "markdown",
      "metadata": {
        "id": "QWmjR5ND1pvh"
      },
      "source": [
        "### **Neural network prefer data to be scaled(or normalized) this means they are likely to have numbers between 0&1**\n"
      ]
    },
    {
      "cell_type": "code",
      "metadata": {
        "colab": {
          "base_uri": "https://localhost:8080/"
        },
        "id": "9prJKkYY16uH",
        "outputId": "6737fda3-bb26-4540-a054-dd5d0ae6aa94"
      },
      "source": [
        "train_data_nom=train_data/255.0\n",
        "test_data_nom=test_data/255.0\n",
        "train_data_nom.max(),train_data_nom.min()"
      ],
      "execution_count": null,
      "outputs": [
        {
          "output_type": "execute_result",
          "data": {
            "text/plain": [
              "(1.0, 0.0)"
            ]
          },
          "metadata": {
            "tags": []
          },
          "execution_count": 14
        }
      ]
    },
    {
      "cell_type": "code",
      "metadata": {
        "id": "oK6fp0yP2L0o"
      },
      "source": [
        "## Now data is normalized now modelling\n",
        "\n",
        "tf.random.set_seed(54)\n",
        "model_11=tf.keras.Sequential([tf.keras.layers.Flatten(input_shape=(28,28)),\n",
        "                             tf.keras.layers.Dense(4,activation=\"relu\"),\n",
        "                             tf.keras.layers.Dense(4,activation=\"relu\"),\n",
        "                             tf.keras.layers.Dense(10,activation=\"softmax\")])\n",
        "model_11.compile(loss=\"CategoricalCrossentropy\",\n",
        "                optimizer=tf.keras.optimizers.Adam(),\n",
        "                metrics=[\"accuracy\"])\n",
        "non_norm_history=model_11.fit(train_data_nom,tf.one_hot(train_labels,depth=10),epochs=25,validation_data=(test_data_nom,tf.one_hot(test_labels,depth=10)))"
      ],
      "execution_count": null,
      "outputs": []
    },
    {
      "cell_type": "markdown",
      "metadata": {
        "id": "R9OfkZo93364"
      },
      "source": [
        "## In NN keep in mind that data should be in normalized form to increase the accuracy which can also be seen above"
      ]
    },
    {
      "cell_type": "code",
      "metadata": {
        "colab": {
          "base_uri": "https://localhost:8080/",
          "height": 299
        },
        "id": "vpQl0Lnl4b6L",
        "outputId": "c275a89b-2a8c-40a0-c3c2-8c7417a5d9c6"
      },
      "source": [
        "import pandas as pd\n",
        "pd.DataFrame(non_norm_history.history).plot(title=\"Normalized Plot\")"
      ],
      "execution_count": null,
      "outputs": [
        {
          "output_type": "execute_result",
          "data": {
            "text/plain": [
              "<matplotlib.axes._subplots.AxesSubplot at 0x7fd37d7bd790>"
            ]
          },
          "metadata": {
            "tags": []
          },
          "execution_count": 16
        },
        {
          "output_type": "display_data",
          "data": {
            "image/png": "[encoded data removed]",
            "text/plain": [
              "<Figure size 432x288 with 1 Axes>"
            ]
          },
          "metadata": {
            "tags": [],
            "needs_background": "light"
          }
        }
      ]
    },
    {
      "cell_type": "code",
      "metadata": {
        "id": "QXqKpE_i4qeG"
      },
      "source": [
        "## Finding the ideal learning rate\n",
        "\n",
        "tf.random.set_seed(42)\n",
        "model_12=tf.keras.Sequential([tf.keras.layers.Flatten(input_shape=(28,28)),\n",
        "                             tf.keras.layers.Dense(4,activation=\"relu\"),\n",
        "                             tf.keras.layers.Dense(4,activation=\"relu\"),\n",
        "                             tf.keras.layers.Dense(10,activation=\"softmax\")])\n",
        "model_12.compile(loss=\"CategoricalCrossentropy\",\n",
        "                optimizer=tf.keras.optimizers.Adam(),\n",
        "                metrics=[\"accuracy\"])\n",
        "lr_schedule=tf.keras.callbacks.LearningRateScheduler(lambda epochs: 1e-3 * 10** (epochs/20))\n",
        "find_lr_hist=model_12.fit(train_data_nom,tf.one_hot(train_labels,depth=10),epochs=40,validation_data=(test_data_nom,tf.one_hot(test_labels,depth=10)),callbacks=[lr_schedule])\n"
      ],
      "execution_count": null,
      "outputs": []
    },
    {
      "cell_type": "code",
      "metadata": {
        "colab": {
          "base_uri": "https://localhost:8080/",
          "height": 317
        },
        "id": "5B9eCDVu54fN",
        "outputId": "57df9a96-4f56-4e1d-ced2-e1df9bf68a80"
      },
      "source": [
        "import numpy as np\n",
        "lrs=1e-3*(10**(tf.range(40)/20))\n",
        "plt.semilogx(lrs,find_lr_hist.history[\"loss\"])\n",
        "plt.xlabel(\"Learning Rate\")\n",
        "plt.ylabel(\"Loss\")\n",
        "plt.title(\"Finding the ideal learning rate\")"
      ],
      "execution_count": null,
      "outputs": [
        {
          "output_type": "execute_result",
          "data": {
            "text/plain": [
              "Text(0.5, 1.0, 'Finding the ideal learning rate')"
            ]
          },
          "metadata": {
            "tags": []
          },
          "execution_count": 18
        },
        {
          "output_type": "display_data",
          "data": {
            "image/png": "[encoded data removed]",
            "text/plain": [
              "<Figure size 432x288 with 1 Axes>"
            ]
          },
          "metadata": {
            "tags": [],
            "needs_background": "light"
          }
        }
      ]
    },
    {
      "cell_type": "code",
      "metadata": {
        "id": "6EpKWG9U7Fdp"
      },
      "source": [
        "## Finding the ideal learning rate\n",
        "\n",
        "tf.random.set_seed(42)\n",
        "model_13=tf.keras.Sequential([tf.keras.layers.Flatten(input_shape=(28,28)),\n",
        "                             tf.keras.layers.Dense(4,activation=\"relu\"),\n",
        "                             tf.keras.layers.Dense(4,activation=\"relu\"),\n",
        "                             tf.keras.layers.Dense(10,activation=\"softmax\")])\n",
        "model_13.compile(loss=\"CategoricalCrossentropy\",\n",
        "                optimizer=tf.keras.optimizers.Adam(0.001),\n",
        "                metrics=[\"accuracy\"])\n",
        "history_13=model_13.fit(train_data_nom,tf.one_hot(train_labels,depth=10),epochs=50,validation_data=(test_data_nom,tf.one_hot(test_labels,depth=10)))\n"
      ],
      "execution_count": null,
      "outputs": []
    },
    {
      "cell_type": "code",
      "metadata": {
        "colab": {
          "base_uri": "https://localhost:8080/"
        },
        "id": "Xb1Ysev27Yo7",
        "outputId": "920eb791-9ac2-427d-f115-4881a5fab97b"
      },
      "source": [
        "y_probs=model_13.predict(test_data_nom)\n",
        "y_probs"
      ],
      "execution_count": null,
      "outputs": [
        {
          "output_type": "execute_result",
          "data": {
            "text/plain": [
              "array([[1.42883075e-11, 8.79150017e-11, 2.20653556e-06, ...,\n",
              "        5.68293482e-02, 4.92394727e-04, 8.35720181e-01],\n",
              "       [1.88243177e-06, 1.84475610e-16, 9.42313969e-01, ...,\n",
              "        0.00000000e+00, 1.23464258e-03, 1.59838478e-18],\n",
              "       [6.11740979e-05, 9.98460293e-01, 1.04653729e-07, ...,\n",
              "        4.54603211e-17, 3.56314374e-08, 1.03026303e-11],\n",
              "       ...,\n",
              "       [5.96265271e-02, 3.44682690e-06, 1.07272036e-01, ...,\n",
              "        1.44454890e-31, 7.20576271e-02, 2.75891618e-17],\n",
              "       [8.40595112e-06, 9.97999728e-01, 1.09395401e-07, ...,\n",
              "        2.99060017e-16, 9.13382792e-08, 5.70678893e-10],\n",
              "       [5.11539398e-08, 2.38046773e-08, 3.84214436e-05, ...,\n",
              "        7.30815111e-03, 2.72939971e-04, 4.25866805e-03]], dtype=float32)"
            ]
          },
          "metadata": {
            "tags": []
          },
          "execution_count": 20
        }
      ]
    },
    {
      "cell_type": "code",
      "metadata": {
        "colab": {
          "base_uri": "https://localhost:8080/"
        },
        "id": "0tpE4Zhy7jOU",
        "outputId": "98dd6f16-d727-416b-f85a-009285d2984c"
      },
      "source": [
        "## Changing probabilities into numbers\n",
        "y_preds=y_probs.argmax(axis=1)  # Axis = 1 so that \n",
        "y_preds[:15],test_labels[:15]\n",
        "\n",
        "# Here we can seee how probability differ from original test case"
      ],
      "execution_count": null,
      "outputs": [
        {
          "output_type": "execute_result",
          "data": {
            "text/plain": [
              "(array([9, 2, 1, 1, 6, 1, 4, 6, 5, 7, 4, 5, 5, 3, 4]),\n",
              " array([9, 2, 1, 1, 6, 1, 4, 6, 5, 7, 4, 5, 7, 3, 4], dtype=uint8))"
            ]
          },
          "metadata": {
            "tags": []
          },
          "execution_count": 21
        }
      ]
    },
    {
      "cell_type": "code",
      "metadata": {
        "id": "oDvvnv9i8Muq"
      },
      "source": [
        "from sklearn.metrics import confusion_matrix\n",
        "import itertools\n",
        "import seaborn as sns\n",
        "\n",
        "def make_confusion_matrix(y_true,y_pred,classes=None,figsize=(10,10),text_size=10):\n",
        "  cm=confusion_matrix(y_true,y_pred)\n",
        "  cm_norm=cm.astype(\"float\")/cm.sum(axis=1)[:np.newaxis]\n",
        "  n_classes=cm.shape[0]  # Length of class_names\n",
        "\n",
        "  fig,ax=plt.subplots(figsize=(10,10))\n",
        "  cax=sns.heatmap(cm,annot=True,fmt=\"g\",cmap=\"Blues\")\n",
        "\n",
        "  if classes:\n",
        "    labels=classes\n",
        "  else:\n",
        "    labels=np.arange(cm.shape[0])\n",
        "\n",
        "  ax.set(title=\"Confusion Matrix\",\n",
        "         xlabel=\"Predicted Label\",\n",
        "         ylabel=\"True Label\",\n",
        "         xticks=np.arange(n_classes),\n",
        "         yticks=np.arange(n_classes),\n",
        "         xticklabels=labels,\n",
        "         yticklabels=labels)\n",
        "  plt.xticks(rotation=-45,ha=\"left\")\n",
        "  plt.yticks(rotation=-45,ha=\"center\")\n",
        "  for a,spine in cax.spines.items():   # Show black border\n",
        "      spine.set_visible(True)\n"
      ],
      "execution_count": null,
      "outputs": []
    },
    {
      "cell_type": "code",
      "metadata": {
        "colab": {
          "base_uri": "https://localhost:8080/",
          "height": 656
        },
        "id": "hXvio4vq4WPI",
        "outputId": "12400d08-7e68-470a-bd35-6482a6a22e79"
      },
      "source": [
        "make_confusion_matrix(y_true=test_labels,\n",
        "                      y_pred=y_preds,\n",
        "                      classes=class_names)"
      ],
      "execution_count": null,
      "outputs": [
        {
          "output_type": "display_data",
          "data": {
            "image/png": "[encoded data removed]",
            "text/plain": [
              "<Figure size 720x720 with 2 Axes>"
            ]
          },
          "metadata": {
            "tags": [],
            "needs_background": "light"
          }
        }
      ]
    },
    {
      "cell_type": "code",
      "metadata": {
        "id": "xdOlY96Ue9I7"
      },
      "source": [
        "import random\n",
        "def plot_random_img(model,images,true_labels,classes):\n",
        "  \"\"\"\n",
        "  Picks a random image,plot it ans labels it with a prediction and truth labels\n",
        "  \"\"\"\n",
        "  i=random.randint(0,len(images))\n",
        "  \n",
        "  # Create predictions nad target\n",
        "  target_img=images[i]\n",
        "  pred_probs=model.predict(target_img.reshape(1,28,28))\n",
        "  pred_labels=classes[pred_probs.argmax()]\n",
        "  true_label=classes[true_labels[i]]\n",
        "\n",
        "  # Plot the image\n",
        "  plt.imshow(target_img,cmap=\"binary\")\n",
        "\n",
        "  # Change Colour of the titles depending on if the predic.. is right\n",
        "  if pred_labels==true_label:\n",
        "    color=\"green\"\n",
        "  else:\n",
        "    color=\"red\"\n",
        "  \n",
        "  # Add A xlabel\n",
        "  plt.xlabel(\"Pred: {} [{:.2f}]% (True: {})\".format(pred_labels,\n",
        "                                                 100*tf.reduce_max(pred_probs),\n",
        "                                                 true_label),\n",
        "                                                 color=color)\n",
        "\n",
        "\n",
        "  "
      ],
      "execution_count": null,
      "outputs": []
    },
    {
      "cell_type": "code",
      "metadata": {
        "colab": {
          "base_uri": "https://localhost:8080/",
          "height": 279
        },
        "id": "0fX7y-TK6tDT",
        "outputId": "e7c232a7-d60c-4d3c-cf44-25381e4a2321"
      },
      "source": [
        "plot_random_img(model=model_13,images=test_data_nom,true_labels=test_labels,classes=class_names)"
      ],
      "execution_count": null,
      "outputs": [
        {
          "output_type": "display_data",
          "data": {
            "image/png": "[encoded data removed]",
            "text/plain": [
              "<Figure size 432x288 with 1 Axes>"
            ]
          },
          "metadata": {
            "tags": [],
            "needs_background": "light"
          }
        }
      ]
    },
    {
      "cell_type": "markdown",
      "metadata": {
        "id": "msGK5Us--oKf"
      },
      "source": [
        "## What patterns is our model learning?\n"
      ]
    },
    {
      "cell_type": "code",
      "metadata": {
        "colab": {
          "base_uri": "https://localhost:8080/"
        },
        "id": "WuhL4cSCcr1C",
        "outputId": "1aacac45-8226-4e06-d921-2865c4ae7352"
      },
      "source": [
        "model_13.layers"
      ],
      "execution_count": null,
      "outputs": [
        {
          "output_type": "execute_result",
          "data": {
            "text/plain": [
              "[<tensorflow.python.keras.layers.core.Flatten at 0x7fd37ce9f610>,\n",
              " <tensorflow.python.keras.layers.core.Dense at 0x7fd37cfa7b90>,\n",
              " <tensorflow.python.keras.layers.core.Dense at 0x7fd37cfa70d0>,\n",
              " <tensorflow.python.keras.layers.core.Dense at 0x7fd37cfa7410>]"
            ]
          },
          "metadata": {
            "tags": []
          },
          "execution_count": 69
        }
      ]
    },
    {
      "cell_type": "code",
      "metadata": {
        "colab": {
          "base_uri": "https://localhost:8080/"
        },
        "id": "3X_xfYIocuCa",
        "outputId": "1aaf5ea6-874b-487e-81b5-0e2c8e2dd9a6"
      },
      "source": [
        "## Extract a particular layer \n",
        "model_13.layers[1]"
      ],
      "execution_count": null,
      "outputs": [
        {
          "output_type": "execute_result",
          "data": {
            "text/plain": [
              "<tensorflow.python.keras.layers.core.Dense at 0x7fd37cfa7b90>"
            ]
          },
          "metadata": {
            "tags": []
          },
          "execution_count": 71
        }
      ]
    },
    {
      "cell_type": "code",
      "metadata": {
        "colab": {
          "base_uri": "https://localhost:8080/"
        },
        "id": "oVOkQV-pc3rg",
        "outputId": "c2b2e69a-f9b9-4059-a8ea-54d7bffc04c4"
      },
      "source": [
        "## Get the patterns of a layers in our network\n",
        "weights,biases=model_13.layers[1].get_weights()\n",
        "\n",
        "weights,weights.shape,tf.reduce_min(weights)"
      ],
      "execution_count": null,
      "outputs": [
        {
          "output_type": "execute_result",
          "data": {
            "text/plain": [
              "(array([[ 2.0415068 , -1.1884094 , -1.3611248 , -2.4212837 ],\n",
              "        [ 0.5295151 , -1.5456887 , -0.755963  , -0.2851272 ],\n",
              "        [ 1.6004672 , -0.61618364, -2.2084472 , -1.4376194 ],\n",
              "        ...,\n",
              "        [-0.10478151,  0.79469854, -0.1690665 ,  0.51664037],\n",
              "        [-0.11646248,  1.4452201 ,  0.75222886, -0.65835357],\n",
              "        [ 0.46175426, -0.3365653 ,  0.2037733 ,  0.31094983]],\n",
              "       dtype=float32),\n",
              " (784, 4),\n",
              " <tf.Tensor: shape=(), dtype=float32, numpy=-4.7083216>)"
            ]
          },
          "metadata": {
            "tags": []
          },
          "execution_count": 74
        }
      ]
    },
    {
      "cell_type": "markdown",
      "metadata": {
        "id": "0Ld1GHMXdKaj"
      },
      "source": [
        "## Now let's checkout the bias vectors"
      ]
    },
    {
      "cell_type": "code",
      "metadata": {
        "colab": {
          "base_uri": "https://localhost:8080/"
        },
        "id": "4bqtJ6WYgEz8",
        "outputId": "c1d10a69-6d59-4b41-c629-e8a90430a61a"
      },
      "source": [
        "# There is only one bias vector per hidden unit and 1 weight unit per data point\n",
        "biases,biases.shape"
      ],
      "execution_count": null,
      "outputs": [
        {
          "output_type": "execute_result",
          "data": {
            "text/plain": [
              "(array([ 0.38960108, -0.00443142, -0.16287   ,  1.422073  ], dtype=float32),\n",
              " (4,))"
            ]
          },
          "metadata": {
            "tags": []
          },
          "execution_count": 78
        }
      ]
    },
    {
      "cell_type": "code",
      "metadata": {
        "colab": {
          "base_uri": "https://localhost:8080/",
          "height": 533
        },
        "id": "5KjVsToFgKLK",
        "outputId": "755f02ce-5ad5-44f6-bdd4-c7243d374f8b"
      },
      "source": [
        "from tensorflow.keras.utils import plot_model\n",
        "\n",
        "plot_model(model_13,show_shapes=True)"
      ],
      "execution_count": null,
      "outputs": [
        {
          "output_type": "execute_result",
          "data": {
            "image/png": "[encoded data removed]",
            "text/plain": [
              "<IPython.core.display.Image object>"
            ]
          },
          "metadata": {
            "tags": []
          },
          "execution_count": 80
        }
      ]
    },
    {
      "cell_type": "code",
      "metadata": {
        "id": "5qDNHgjghbNB"
      },
      "source": [
        ""
      ],
      "execution_count": null,
      "outputs": []
    }
  ]
}